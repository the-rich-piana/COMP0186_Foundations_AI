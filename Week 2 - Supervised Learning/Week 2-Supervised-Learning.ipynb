{
 "cells": [
  {
   "cell_type": "markdown",
   "id": "3b485358",
   "metadata": {},
   "source": [
    "# Supervised Learning \n",
    "This notebook includes a Linear Regression example on a housing dataset. The dataset contains different information about different houses in California. The dataset we will use contains 20640 samples with 8 features. The objective of the notebook is to utilize the given features in order to predict the value of a house given some information like it's location, median income, number of occupants, etc in the area. \n",
    "\n",
    "## Authors\n",
    "- Wiem Ben Rim (wiem.rim.23@ucl.ac.uk)\n",
    "\n",
    "## Learning Outcomes\n",
    "- **Fundamental Concepts:** Try a concrete example of supervised learning (linear regression). Use the scikit-learn library to import a dataset, complete an exploratory data analysis, split the dataset into training and test sets and train a simple linear regression model. You will also learn to use the seaborn library to better visualize your data.\n",
    "\n",
    "## More learning\n",
    "- Have a look at the source material under 1.5 for an additional dataset that is commonly used for linear regression\n",
    "\n",
    "## Task\n",
    "\n",
    "The notebook will then demonstrate how to implement a linear regression model to predict the price of a house given some information."
   ]
  },
  {
   "cell_type": "markdown",
   "id": "7ccabf33",
   "metadata": {},
   "source": [
    "## Linear Regression"
   ]
  },
  {
   "cell_type": "markdown",
   "id": "9fa16309",
   "metadata": {},
   "source": [
    "Source:\n",
    "- https://amitg0161.medium.com/sklearn-linear-regression-tutorial-with-boston-house-dataset-cde74afd460a\n",
    "- https://github.com/amitg0161/Sklearn_learning"
   ]
  },
  {
   "cell_type": "markdown",
   "id": "191c5c09",
   "metadata": {},
   "source": [
    "Here, we introduce linear regression, from reading the dataset with scikit-learn and preprocessing the data to running a model and improving it with the use of features. "
   ]
  },
  {
   "cell_type": "markdown",
   "id": "6f6b8b6f-43ab-4c25-900c-82408c8f2f58",
   "metadata": {},
   "source": [
    "### Installing Dependencies "
   ]
  },
  {
   "cell_type": "markdown",
   "id": "57647690-b20d-4ff4-a920-45f9e8cf9c8c",
   "metadata": {},
   "source": [
    "First, you may need to use a virtual environment in order to install the necessary libraries. This is not mandatory but recommended practice."
   ]
  },
  {
   "cell_type": "markdown",
   "id": "325752ea-f8f3-4d50-b6f4-8932e75a8dc7",
   "metadata": {},
   "source": [
    "#### Virtual Environment Setup (terminal)"
   ]
  },
  {
   "cell_type": "markdown",
   "id": "491a88bb-098b-4bc7-b90e-a55a0fefe41b",
   "metadata": {},
   "source": [
    "```\n",
    "conda create -n week2 python=3.12\n",
    "source activate week2\n",
    "python -m pip install ipykernel\n",
    "python -m ipykernel install --user\n",
    "python -m ipykernel install --name week2"
   ]
  },
  {
   "cell_type": "markdown",
   "id": "0ba78382-79ff-4a32-a21c-ff4637c8c7a0",
   "metadata": {},
   "source": [
    "You should now be able to see the new kernel in the dropdown menu on the top right"
   ]
  },
  {
   "cell_type": "markdown",
   "id": "13c231d5-844c-4f58-afd0-143a2091196e",
   "metadata": {},
   "source": [
    "#### Installing libraries"
   ]
  },
  {
   "cell_type": "markdown",
   "id": "5e192061-2508-4c72-962e-e65eabd25001",
   "metadata": {},
   "source": [
    "Install the `requirements.txt` file by running `pip install -r requirements.txt`"
   ]
  },
  {
   "cell_type": "markdown",
   "id": "4d666f52",
   "metadata": {},
   "source": [
    "### Importing Libraries"
   ]
  },
  {
   "cell_type": "code",
   "execution_count": 27,
   "id": "e645b37b",
   "metadata": {},
   "outputs": [],
   "source": [
    "# import libraries\n",
    "import numpy as np\n",
    "import pandas as pd\n",
    "\n",
    "#Visualization Libraries\n",
    "import seaborn as sns\n",
    "# to plot image\n",
    "import matplotlib.pyplot as plt\n",
    "#To plot the graph embedded in the notebook\n",
    "%matplotlib inline"
   ]
  },
  {
   "cell_type": "code",
   "execution_count": 28,
   "id": "484e4a74-1309-40dc-8124-8fc4607f1eed",
   "metadata": {},
   "outputs": [],
   "source": [
    "#imports from sklearn library\n",
    "\n",
    "from sklearn import datasets\n",
    "from sklearn.linear_model import LinearRegression\n",
    "from sklearn.model_selection import train_test_split, cross_val_score\n",
    "from sklearn.metrics import mean_squared_error"
   ]
  },
  {
   "cell_type": "markdown",
   "id": "826bcce8",
   "metadata": {},
   "source": [
    "### Loading Data"
   ]
  },
  {
   "cell_type": "markdown",
   "id": "6a010020",
   "metadata": {},
   "source": [
    "For our task, we use a housing dataset from the StatLib repository (https://www.dcc.fc.up.pt/~ltorgo/Regression/cal_housing.html). The dataset is included under scikit-learn library so we will import it directly."
   ]
  },
  {
   "cell_type": "code",
   "execution_count": 29,
   "id": "7962e40a",
   "metadata": {},
   "outputs": [],
   "source": [
    "#loading the dataset direclty from sklearn\n",
    "from sklearn.datasets import fetch_california_housing\n",
    "housing = fetch_california_housing(as_frame=True)"
   ]
  },
  {
   "cell_type": "markdown",
   "id": "d957030e-c14f-4802-9f5a-4c91335e699d",
   "metadata": {},
   "source": [
    "sklearn returns a dictionary-like object, the interesting attributes are: `data`, the data to learn, `target`, the regression targets, `DESCR`, the full description of the dataset, and `feature_names`. From this, we can perform operations such as `housing.keys()` "
   ]
  },
  {
   "cell_type": "markdown",
   "id": "21f41c70-ddb2-4d04-ba68-f2c1b700b21a",
   "metadata": {},
   "source": [
    "<h3 style=\"background-color:yellow\">Task:</h3>\n",
    "\n",
    "- Print the shape of the housing data based on the information provided above\n",
    "- Print the feature names\n",
    "- Print the keys for the `housing` variable\n",
    "- Print the description of the datset "
   ]
  },
  {
   "cell_type": "code",
   "execution_count": 42,
   "id": "5fe6a267-0df2-4439-ad38-82c9dedf9eca",
   "metadata": {},
   "outputs": [
    {
     "name": "stdout",
     "output_type": "stream",
     "text": [
      "dict_keys(['data', 'target', 'frame', 'target_names', 'feature_names', 'DESCR'])\n",
      "0        4.526\n",
      "1        3.585\n",
      "2        3.521\n",
      "3        3.413\n",
      "4        3.422\n",
      "         ...  \n",
      "20635    0.781\n",
      "20636    0.771\n",
      "20637    0.923\n",
      "20638    0.847\n",
      "20639    0.894\n",
      "Name: MedHouseVal, Length: 20640, dtype: float64\n"
     ]
    }
   ],
   "source": [
    "print(housing.keys())\n",
    "print(housing.target)"
   ]
  },
  {
   "cell_type": "markdown",
   "id": "b91b3220-67d8-4a50-8804-05a3b6812f7a",
   "metadata": {},
   "source": [
    "We can load the data into a pandas Dataframe and print it to have a look at our data"
   ]
  },
  {
   "cell_type": "code",
   "execution_count": 15,
   "id": "fb9293ce-5f00-46c9-a84f-9dbb4ec3bc0d",
   "metadata": {},
   "outputs": [
    {
     "data": {
      "text/html": [
       "<div>\n",
       "<style scoped>\n",
       "    .dataframe tbody tr th:only-of-type {\n",
       "        vertical-align: middle;\n",
       "    }\n",
       "\n",
       "    .dataframe tbody tr th {\n",
       "        vertical-align: top;\n",
       "    }\n",
       "\n",
       "    .dataframe thead th {\n",
       "        text-align: right;\n",
       "    }\n",
       "</style>\n",
       "<table border=\"1\" class=\"dataframe\">\n",
       "  <thead>\n",
       "    <tr style=\"text-align: right;\">\n",
       "      <th></th>\n",
       "      <th>MedInc</th>\n",
       "      <th>HouseAge</th>\n",
       "      <th>AveRooms</th>\n",
       "      <th>AveBedrms</th>\n",
       "      <th>Population</th>\n",
       "      <th>AveOccup</th>\n",
       "      <th>Latitude</th>\n",
       "      <th>Longitude</th>\n",
       "    </tr>\n",
       "  </thead>\n",
       "  <tbody>\n",
       "    <tr>\n",
       "      <th>0</th>\n",
       "      <td>8.3252</td>\n",
       "      <td>41.0</td>\n",
       "      <td>6.984127</td>\n",
       "      <td>1.023810</td>\n",
       "      <td>322.0</td>\n",
       "      <td>2.555556</td>\n",
       "      <td>37.88</td>\n",
       "      <td>-122.23</td>\n",
       "    </tr>\n",
       "    <tr>\n",
       "      <th>1</th>\n",
       "      <td>8.3014</td>\n",
       "      <td>21.0</td>\n",
       "      <td>6.238137</td>\n",
       "      <td>0.971880</td>\n",
       "      <td>2401.0</td>\n",
       "      <td>2.109842</td>\n",
       "      <td>37.86</td>\n",
       "      <td>-122.22</td>\n",
       "    </tr>\n",
       "    <tr>\n",
       "      <th>2</th>\n",
       "      <td>7.2574</td>\n",
       "      <td>52.0</td>\n",
       "      <td>8.288136</td>\n",
       "      <td>1.073446</td>\n",
       "      <td>496.0</td>\n",
       "      <td>2.802260</td>\n",
       "      <td>37.85</td>\n",
       "      <td>-122.24</td>\n",
       "    </tr>\n",
       "    <tr>\n",
       "      <th>3</th>\n",
       "      <td>5.6431</td>\n",
       "      <td>52.0</td>\n",
       "      <td>5.817352</td>\n",
       "      <td>1.073059</td>\n",
       "      <td>558.0</td>\n",
       "      <td>2.547945</td>\n",
       "      <td>37.85</td>\n",
       "      <td>-122.25</td>\n",
       "    </tr>\n",
       "    <tr>\n",
       "      <th>4</th>\n",
       "      <td>3.8462</td>\n",
       "      <td>52.0</td>\n",
       "      <td>6.281853</td>\n",
       "      <td>1.081081</td>\n",
       "      <td>565.0</td>\n",
       "      <td>2.181467</td>\n",
       "      <td>37.85</td>\n",
       "      <td>-122.25</td>\n",
       "    </tr>\n",
       "  </tbody>\n",
       "</table>\n",
       "</div>"
      ],
      "text/plain": [
       "   MedInc  HouseAge  AveRooms  AveBedrms  Population  AveOccup  Latitude  \\\n",
       "0  8.3252      41.0  6.984127   1.023810       322.0  2.555556     37.88   \n",
       "1  8.3014      21.0  6.238137   0.971880      2401.0  2.109842     37.86   \n",
       "2  7.2574      52.0  8.288136   1.073446       496.0  2.802260     37.85   \n",
       "3  5.6431      52.0  5.817352   1.073059       558.0  2.547945     37.85   \n",
       "4  3.8462      52.0  6.281853   1.081081       565.0  2.181467     37.85   \n",
       "\n",
       "   Longitude  \n",
       "0    -122.23  \n",
       "1    -122.22  \n",
       "2    -122.24  \n",
       "3    -122.25  \n",
       "4    -122.25  "
      ]
     },
     "execution_count": 15,
     "metadata": {},
     "output_type": "execute_result"
    }
   ],
   "source": [
    "housing_df = pd.DataFrame(housing.data, columns = housing.feature_names)\n",
    "# print the first 5 entries in the dataframe\n",
    "housing_df.head()"
   ]
  },
  {
   "cell_type": "markdown",
   "id": "25427a3f-706e-4810-9af1-7ba4a93c8958",
   "metadata": {},
   "source": [
    "<h3 style=\"background-color:yellow\">Task:</h3>\n",
    "\n",
    "- Add a column to the housing dataframe that indicates the price of the houses. Name the column `PRICE`\n",
    "\n",
    "<span style=\"color:green\"> <strong> Hint: </strong>  Make use of the regression targets under `keys`. "
   ]
  },
  {
   "cell_type": "code",
   "execution_count": 43,
   "id": "e77edca7-d41c-43df-876e-890bae94b63a",
   "metadata": {},
   "outputs": [],
   "source": [
    "housing_df['price'] = housing.target"
   ]
  },
  {
   "cell_type": "markdown",
   "id": "628c3818",
   "metadata": {},
   "source": [
    "### Data Preprocessing Steps"
   ]
  },
  {
   "cell_type": "markdown",
   "id": "18ee579c-395c-437a-8fee-c1472fd3e87e",
   "metadata": {},
   "source": [
    "After loading the data, it’s a good practice to see if there are any missing values in the data. We count the number of missing values for each feature using isnull()"
   ]
  },
  {
   "cell_type": "markdown",
   "id": "0b4c5e84-b73e-4f26-a5ff-e1f4f011c753",
   "metadata": {},
   "source": [
    "<h3 style=\"background-color:yellow\"> Task: </h3>\n",
    "    \n",
    "- Display the count of each feature that is equal to null. \n",
    "\n",
    "<span style=\"color:green\"> <strong> Hint: </strong> Try using isnull() and sum up the values. </span>"
   ]
  },
  {
   "cell_type": "code",
   "execution_count": 44,
   "id": "3a69d3e1-240f-4014-bfd7-129d915d4f08",
   "metadata": {},
   "outputs": [
    {
     "data": {
      "text/plain": [
       "MedInc        0\n",
       "HouseAge      0\n",
       "AveRooms      0\n",
       "AveBedrms     0\n",
       "Population    0\n",
       "AveOccup      0\n",
       "Latitude      0\n",
       "Longitude     0\n",
       "price         0\n",
       "dtype: int64"
      ]
     },
     "execution_count": 44,
     "metadata": {},
     "output_type": "execute_result"
    }
   ],
   "source": [
    "# write your code here \n",
    "housing_df.isnull().sum()\n"
   ]
  },
  {
   "cell_type": "markdown",
   "id": "41d31417-5e8d-4e24-b896-9e9bf23a50ca",
   "metadata": {},
   "source": [
    "Let's have a look at the data. \n",
    "\n",
    "<h3 style=\"background-color:yellow\"> Task: </h3>\n",
    "    \n",
    "- Call the `describe()` fuction of the dataframe. Can you tell what information is being presented to you? \n"
   ]
  },
  {
   "cell_type": "code",
   "execution_count": 45,
   "id": "bf1169dc-ba26-4bbc-8156-4a9ebcca27e4",
   "metadata": {},
   "outputs": [
    {
     "data": {
      "text/html": [
       "<div>\n",
       "<style scoped>\n",
       "    .dataframe tbody tr th:only-of-type {\n",
       "        vertical-align: middle;\n",
       "    }\n",
       "\n",
       "    .dataframe tbody tr th {\n",
       "        vertical-align: top;\n",
       "    }\n",
       "\n",
       "    .dataframe thead th {\n",
       "        text-align: right;\n",
       "    }\n",
       "</style>\n",
       "<table border=\"1\" class=\"dataframe\">\n",
       "  <thead>\n",
       "    <tr style=\"text-align: right;\">\n",
       "      <th></th>\n",
       "      <th>MedInc</th>\n",
       "      <th>HouseAge</th>\n",
       "      <th>AveRooms</th>\n",
       "      <th>AveBedrms</th>\n",
       "      <th>Population</th>\n",
       "      <th>AveOccup</th>\n",
       "      <th>Latitude</th>\n",
       "      <th>Longitude</th>\n",
       "      <th>price</th>\n",
       "    </tr>\n",
       "  </thead>\n",
       "  <tbody>\n",
       "    <tr>\n",
       "      <th>count</th>\n",
       "      <td>20640.000000</td>\n",
       "      <td>20640.000000</td>\n",
       "      <td>20640.000000</td>\n",
       "      <td>20640.000000</td>\n",
       "      <td>20640.000000</td>\n",
       "      <td>20640.000000</td>\n",
       "      <td>20640.000000</td>\n",
       "      <td>20640.000000</td>\n",
       "      <td>20640.000000</td>\n",
       "    </tr>\n",
       "    <tr>\n",
       "      <th>mean</th>\n",
       "      <td>3.870671</td>\n",
       "      <td>28.639486</td>\n",
       "      <td>5.429000</td>\n",
       "      <td>1.096675</td>\n",
       "      <td>1425.476744</td>\n",
       "      <td>3.070655</td>\n",
       "      <td>35.631861</td>\n",
       "      <td>-119.569704</td>\n",
       "      <td>2.068558</td>\n",
       "    </tr>\n",
       "    <tr>\n",
       "      <th>std</th>\n",
       "      <td>1.899822</td>\n",
       "      <td>12.585558</td>\n",
       "      <td>2.474173</td>\n",
       "      <td>0.473911</td>\n",
       "      <td>1132.462122</td>\n",
       "      <td>10.386050</td>\n",
       "      <td>2.135952</td>\n",
       "      <td>2.003532</td>\n",
       "      <td>1.153956</td>\n",
       "    </tr>\n",
       "    <tr>\n",
       "      <th>min</th>\n",
       "      <td>0.499900</td>\n",
       "      <td>1.000000</td>\n",
       "      <td>0.846154</td>\n",
       "      <td>0.333333</td>\n",
       "      <td>3.000000</td>\n",
       "      <td>0.692308</td>\n",
       "      <td>32.540000</td>\n",
       "      <td>-124.350000</td>\n",
       "      <td>0.149990</td>\n",
       "    </tr>\n",
       "    <tr>\n",
       "      <th>25%</th>\n",
       "      <td>2.563400</td>\n",
       "      <td>18.000000</td>\n",
       "      <td>4.440716</td>\n",
       "      <td>1.006079</td>\n",
       "      <td>787.000000</td>\n",
       "      <td>2.429741</td>\n",
       "      <td>33.930000</td>\n",
       "      <td>-121.800000</td>\n",
       "      <td>1.196000</td>\n",
       "    </tr>\n",
       "    <tr>\n",
       "      <th>50%</th>\n",
       "      <td>3.534800</td>\n",
       "      <td>29.000000</td>\n",
       "      <td>5.229129</td>\n",
       "      <td>1.048780</td>\n",
       "      <td>1166.000000</td>\n",
       "      <td>2.818116</td>\n",
       "      <td>34.260000</td>\n",
       "      <td>-118.490000</td>\n",
       "      <td>1.797000</td>\n",
       "    </tr>\n",
       "    <tr>\n",
       "      <th>75%</th>\n",
       "      <td>4.743250</td>\n",
       "      <td>37.000000</td>\n",
       "      <td>6.052381</td>\n",
       "      <td>1.099526</td>\n",
       "      <td>1725.000000</td>\n",
       "      <td>3.282261</td>\n",
       "      <td>37.710000</td>\n",
       "      <td>-118.010000</td>\n",
       "      <td>2.647250</td>\n",
       "    </tr>\n",
       "    <tr>\n",
       "      <th>max</th>\n",
       "      <td>15.000100</td>\n",
       "      <td>52.000000</td>\n",
       "      <td>141.909091</td>\n",
       "      <td>34.066667</td>\n",
       "      <td>35682.000000</td>\n",
       "      <td>1243.333333</td>\n",
       "      <td>41.950000</td>\n",
       "      <td>-114.310000</td>\n",
       "      <td>5.000010</td>\n",
       "    </tr>\n",
       "  </tbody>\n",
       "</table>\n",
       "</div>"
      ],
      "text/plain": [
       "             MedInc      HouseAge      AveRooms     AveBedrms    Population  \\\n",
       "count  20640.000000  20640.000000  20640.000000  20640.000000  20640.000000   \n",
       "mean       3.870671     28.639486      5.429000      1.096675   1425.476744   \n",
       "std        1.899822     12.585558      2.474173      0.473911   1132.462122   \n",
       "min        0.499900      1.000000      0.846154      0.333333      3.000000   \n",
       "25%        2.563400     18.000000      4.440716      1.006079    787.000000   \n",
       "50%        3.534800     29.000000      5.229129      1.048780   1166.000000   \n",
       "75%        4.743250     37.000000      6.052381      1.099526   1725.000000   \n",
       "max       15.000100     52.000000    141.909091     34.066667  35682.000000   \n",
       "\n",
       "           AveOccup      Latitude     Longitude         price  \n",
       "count  20640.000000  20640.000000  20640.000000  20640.000000  \n",
       "mean       3.070655     35.631861   -119.569704      2.068558  \n",
       "std       10.386050      2.135952      2.003532      1.153956  \n",
       "min        0.692308     32.540000   -124.350000      0.149990  \n",
       "25%        2.429741     33.930000   -121.800000      1.196000  \n",
       "50%        2.818116     34.260000   -118.490000      1.797000  \n",
       "75%        3.282261     37.710000   -118.010000      2.647250  \n",
       "max     1243.333333     41.950000   -114.310000      5.000010  "
      ]
     },
     "execution_count": 45,
     "metadata": {},
     "output_type": "execute_result"
    }
   ],
   "source": [
    "housing_df.describe()"
   ]
  },
  {
   "cell_type": "markdown",
   "id": "2167d30c",
   "metadata": {},
   "source": [
    "### Exploratory Data Analysis"
   ]
  },
  {
   "cell_type": "markdown",
   "id": "8d719b66-53f9-4215-8614-ddfbcde9e602",
   "metadata": {},
   "source": [
    "Exploratory Data Analysis is a very important step before training the model. Here, we will use visualizations to understand the relationship of the target variable with other features. The target variable will be the `PRICE`\n",
    "\n",
    "Let’s also plot the distribution of the different information we have available. The target distribution will be last since it is the last column we added."
   ]
  },
  {
   "cell_type": "code",
   "execution_count": 24,
   "id": "2afc7867-28dc-4a32-b415-7f25d1a45914",
   "metadata": {},
   "outputs": [
    {
     "data": {
      "image/png": "[encoded data removed]",
      "text/plain": [
       "<Figure size 1200x1000 with 9 Axes>"
      ]
     },
     "metadata": {},
     "output_type": "display_data"
    }
   ],
   "source": [
    "housing_df.hist(figsize=(12, 10), bins=30, edgecolor=\"black\")\n",
    "plt.subplots_adjust(hspace=0.7, wspace=0.4)"
   ]
  },
  {
   "cell_type": "markdown",
   "id": "9cf6383c-24a2-43e9-9f4e-443a8224486b",
   "metadata": {},
   "source": [
    "<h3 style=\"background-color:yellow\"> Task: </h3>\n",
    "\n",
    "Let's have a closer look at our regression target that we added under the `PRICE` column. Edit the code above to show only one graph and add the x and y labels accordingly from the dataset description we look at in the beginning. \n"
   ]
  },
  {
   "cell_type": "code",
   "execution_count": 46,
   "id": "8e4c1efe-015c-4531-a224-02a10af0b08e",
   "metadata": {},
   "outputs": [
    {
     "data": {
      "text/plain": [
       "<Axes: >"
      ]
     },
     "execution_count": 46,
     "metadata": {},
     "output_type": "execute_result"
    },
    {
     "data": {
      "image/png": "[encoded data removed]",
      "text/plain": [
       "<Figure size 1200x1000 with 1 Axes>"
      ]
     },
     "metadata": {},
     "output_type": "display_data"
    }
   ],
   "source": [
    "# write your code here \n",
    "housing_df['price'].hist(figsize=(12, 10), bins=30, edgecolor=\"black\")"
   ]
  },
  {
   "cell_type": "markdown",
   "id": "37477f3d",
   "metadata": {},
   "source": [
    "We can see from the plot that the values of PRICE are distributed normally with few outliers. This is to be expected from our housing dataset, but is not necessarily the case each time."
   ]
  },
  {
   "cell_type": "markdown",
   "id": "76da5b7c-3146-4d5d-8dff-68b26d16ab94",
   "metadata": {},
   "source": [
    "<h3 style=\"background-color:yellow\"> Task: </h3>\n",
    "    \n",
    "- Create a correlation matrix that measures the linear relationships between the variables.\n",
    "- Try to generate this with the price column included\n",
    "\n",
    "<span style=\"color:green\"> <strong> Hint: </strong> The correlation matrix can be formed by using the `corr` function from the `pandas` dataframe library. Use the `heatmap` function from the `seaborn` library to plot the correlation matrix. </span>"
   ]
  },
  {
   "cell_type": "code",
   "execution_count": 48,
   "id": "0263e24d",
   "metadata": {},
   "outputs": [
    {
     "data": {
      "text/plain": [
       "<Axes: >"
      ]
     },
     "execution_count": 48,
     "metadata": {},
     "output_type": "execute_result"
    },
    {
     "data": {
      "image/png": "[encoded data removed]",
      "text/plain": [
       "<Figure size 640x480 with 2 Axes>"
      ]
     },
     "metadata": {},
     "output_type": "display_data"
    }
   ],
   "source": [
    "corr = housing_df.corr()\n",
    "sns.heatmap(corr)"
   ]
  },
  {
   "cell_type": "markdown",
   "id": "d7c8a2ae-29ee-428e-a8e3-009fe73c11b5",
   "metadata": {},
   "source": [
    "The correlation coefficient ranges from -1 to 1. If the value is close to 1, it means that there is a strong positive correlation between the two variables. When it is close to -1, the variables have a strong negative correlation.\n",
    "\n",
    "Notice\n",
    "\n",
    "1. By looking at the correlation matrix we can see `MedInc` (the median income on the block) has a strong positive correlation with PRICE (0.69) whereas Latitude has a high negative correlation with PRICE (-0.14)\n",
    "2. An important point in selecting features for a linear regression model is to check for multicolinearity. The features `AveRooms`, `AveBedrms` have a correlation of 0.85. These feature pairs are strongly correlated to each other. This can affect the model. \n",
    "\n",
    "But for now we will keep all the features.\n"
   ]
  },
  {
   "cell_type": "markdown",
   "id": "d06ff7df-5abc-43c7-980f-81b7c1f18405",
   "metadata": {},
   "source": [
    "<h3 style=\"background-color:yellow\"> Task: </h3>\n",
    "Let's have a better look at the data: \n",
    "\n",
    "- Create plots showing how the house price changes with the average number of rooms. \n",
    "- Experiment with other features and see if you can learn anything about the data"
   ]
  },
  {
   "cell_type": "code",
   "execution_count": null,
   "id": "ad7961fb",
   "metadata": {},
   "outputs": [],
   "source": [
    "# write your code here "
   ]
  },
  {
   "cell_type": "markdown",
   "id": "d12ef4a7-5feb-4d73-a091-a19cbe18f17d",
   "metadata": {},
   "source": [
    "<h3 style=\"background-color:yellow\"> Task: </h3>\n",
    "Let's create another scatterplot to see the relation of the data better\n",
    "\n",
    "- Create a plot where the x axis is the average number of rooms and the y axis is the median income. Use colors to annotate Median house values \n",
    "\n",
    "\n",
    "<span style=\"color:green\"> <strong> Hint: </strong> Use the `hue` and `palette` features of the `seaborn scatterplot` function. https://seaborn.pydata.org/generated/seaborn.scatterplot.html </span>"
   ]
  },
  {
   "cell_type": "code",
   "execution_count": null,
   "id": "9456a3da-b83a-4c2b-b88d-71e177187ae8",
   "metadata": {},
   "outputs": [],
   "source": [
    "# write your code here "
   ]
  },
  {
   "cell_type": "markdown",
   "id": "5f30fa21-fd27-4a9b-91ef-dc35b51c69a3",
   "metadata": {},
   "source": [
    "## Predicting House Prices with one feature"
   ]
  },
  {
   "cell_type": "markdown",
   "id": "ee0bd610-4849-4e15-a7e8-bfcd39523d0b",
   "metadata": {},
   "source": [
    "\n",
    "Since it is really hard to visualise with the multiple features, we will first predict the house price with just one vaiable and then move to the regression with all features.\n",
    "\n",
    "Since we saw that 'MedInc' shows positive correlation with the House Prices we will use this variable\n"
   ]
  },
  {
   "cell_type": "markdown",
   "id": "d5e83e43-7431-46a1-8409-91d7f1d19121",
   "metadata": {},
   "source": [
    "<h3 style=\"background-color:yellow\"> Task: </h3>\n",
    "\n",
    "- Define `X_income` and `y_price` variables and get their values from the `housing_df` columns \n",
    "- Place the contents of the above variables into numpy arrays. Since we are using a single feature consisting of only one column, we need to reshape the arrays <strong> Hint:  Use `.reshape(-1,1)` </strong>\n",
    "- Print the shape of the variables for a sanity check, they should be the same"
   ]
  },
  {
   "cell_type": "code",
   "execution_count": null,
   "id": "3f578ec0-d510-4637-ad54-e75efd5fab56",
   "metadata": {},
   "outputs": [],
   "source": [
    "# write your code here "
   ]
  },
  {
   "cell_type": "markdown",
   "id": "5a48248d",
   "metadata": {},
   "source": [
    "### Splitting the data into training and testing sets"
   ]
  },
  {
   "cell_type": "markdown",
   "id": "06b6a910",
   "metadata": {},
   "source": [
    "Since we need to test our model, we split the data into training and testing sets. We train the model with 80% of the samples and test with the remaining 20%. We do this to assess the model’s performance on unseen data."
   ]
  },
  {
   "cell_type": "markdown",
   "id": "ff9b31ba-cb91-4270-bab3-97d53aad3ec7",
   "metadata": {},
   "source": [
    "<h3 style=\"background-color:yellow\"> Task: </h3>\n",
    "\n",
    "To split the data we use `train_test_split` function provided by `scikit-learn` library. \n",
    "\n",
    "- Split the data with the above function where the test size is 20% of the data.\n",
    "- Finally, print the shapes of our training and test set to verify if the splitting has occurred properly.\n",
    "    \n",
    "\n",
    "<span style=\"color:green\"> <strong> Hint: </strong> Documentation for `train_test_split`: https://scikit-learn.org/stable/modules/generated/sklearn.model_selection.train_test_split.html"
   ]
  },
  {
   "cell_type": "code",
   "execution_count": null,
   "id": "5f241ddc",
   "metadata": {},
   "outputs": [],
   "source": [
    "# write your code here "
   ]
  },
  {
   "cell_type": "code",
   "execution_count": null,
   "id": "21d47bdc",
   "metadata": {},
   "outputs": [],
   "source": [
    "# write your code here "
   ]
  },
  {
   "cell_type": "markdown",
   "id": "b584f16d",
   "metadata": {},
   "source": [
    "### Training and testing the model"
   ]
  },
  {
   "cell_type": "markdown",
   "id": "ad5554db",
   "metadata": {},
   "source": [
    "Here we use scikit-learn’s LinearRegression to train our model on both the training and check it on the test sets"
   ]
  },
  {
   "cell_type": "code",
   "execution_count": null,
   "id": "6b4bcfc0",
   "metadata": {},
   "outputs": [],
   "source": [
    "reg_1 = LinearRegression()\n",
    "reg_1.fit(X_train_1, Y_train_1)"
   ]
  },
  {
   "cell_type": "markdown",
   "id": "7c4fd6e3-6149-472e-9755-4b82a864f10e",
   "metadata": {},
   "source": [
    "Now we will evaluate the model on the training set"
   ]
  },
  {
   "cell_type": "code",
   "execution_count": null,
   "id": "980d7adf",
   "metadata": {},
   "outputs": [],
   "source": [
    "# model evaluation for training set\n",
    "\n",
    "y_train_predict_1 = reg_1.predict(X_train_1)\n",
    "rmse = (np.sqrt(mean_squared_error(Y_train_1, y_train_predict_1)))\n",
    "r2 = round(reg_1.score(X_train_1, Y_train_1),2)\n",
    "\n",
    "print(\"The model performance for training set\")\n",
    "print(\"--------------------------------------\")\n",
    "print('RMSE is {}'.format(rmse))\n",
    "print('R2 score is {}'.format(r2))\n",
    "print(\"\\n\")\n",
    "    "
   ]
  },
  {
   "cell_type": "markdown",
   "id": "0786f5fe-eb64-4674-990b-e0ed40561356",
   "metadata": {},
   "source": [
    "<h3 style=\"background-color:yellow\"> Task: </h3>\n",
    "\n",
    "- Modify the above code to evaluate the test set"
   ]
  },
  {
   "cell_type": "code",
   "execution_count": null,
   "id": "e5f3ab49",
   "metadata": {},
   "outputs": [],
   "source": [
    "# write your code here "
   ]
  },
  {
   "cell_type": "markdown",
   "id": "9ee1e822-e6ca-40d2-b07a-bcec57a03f23",
   "metadata": {},
   "source": [
    "#### Visualization "
   ]
  },
  {
   "cell_type": "code",
   "execution_count": null,
   "id": "dd31e3a6",
   "metadata": {},
   "outputs": [],
   "source": [
    "prediction_space = np.linspace(min(X_income), max(X_income)).reshape(-1,1) \n",
    "plt.scatter(X_income,y_price)\n",
    "plt.plot(prediction_space, reg_1.predict(prediction_space), color = 'black', linewidth = 3)\n",
    "plt.ylabel('value of house/1000($)')\n",
    "plt.xlabel('Median Income')\n",
    "plt.show()"
   ]
  },
  {
   "cell_type": "markdown",
   "id": "9e375fd9",
   "metadata": {},
   "source": [
    "## Regression Model for All the variables"
   ]
  },
  {
   "cell_type": "markdown",
   "id": "1032da94",
   "metadata": {},
   "source": [
    "Now we will create a model considering all the features in the dataset. The process is almost the same and also the evaluation model but in this case the visualization will not be possible in a 2D space."
   ]
  },
  {
   "cell_type": "markdown",
   "id": "792400db-ce13-4949-ad47-36c24b46eacd",
   "metadata": {},
   "source": [
    "<h3 style=\"background-color:yellow\"> Task: </h3>\n",
    "\n",
    "- Create `X` and `y` same as before, but this time X is not only the median income, but rather all the columns of the dataframe\n",
    "- Follow the same steps as in 1.4 to split the data into training and test sets \n",
    "- Create and fit a linear regression model on the data \n",
    "- Run a model evaluation on the train and test sets "
   ]
  },
  {
   "cell_type": "code",
   "execution_count": null,
   "id": "84a57b23",
   "metadata": {},
   "outputs": [],
   "source": [
    "# Define X and y here "
   ]
  },
  {
   "cell_type": "code",
   "execution_count": null,
   "id": "b79918db",
   "metadata": {},
   "outputs": [],
   "source": [
    "# Split the dataset "
   ]
  },
  {
   "cell_type": "code",
   "execution_count": null,
   "id": "5bb035fc",
   "metadata": {},
   "outputs": [],
   "source": [
    "# Define and fit the model"
   ]
  },
  {
   "cell_type": "code",
   "execution_count": null,
   "id": "2984c28a",
   "metadata": {},
   "outputs": [],
   "source": [
    "# model evaluation for training set\n",
    "# write your code here "
   ]
  },
  {
   "cell_type": "code",
   "execution_count": null,
   "id": "60391564",
   "metadata": {},
   "outputs": [],
   "source": [
    "# model evaluation for test set\n",
    "# write your code here "
   ]
  },
  {
   "cell_type": "markdown",
   "id": "3d1f0ac4",
   "metadata": {},
   "source": [
    "## Summary\n",
    "\n",
    "By engaging with this notebook, you will:\n",
    "- Use the scikit-library to load a dataset and train a regression model\n",
    "- \n",
    "- Learn how to analyze a dataset and inspect different features and their correlation with the regression target\n",
    "- Create multiple plots and a confusion matrix to better understand the data\n",
    "- Train a regression model using multiple features\n",
    "- Evalaute a regression model \n",
    "\n"
   ]
  }
 ],
 "metadata": {
  "kernelspec": {
   "display_name": ".venv",
   "language": "python",
   "name": "python3"
  },
  "language_info": {
   "codemirror_mode": {
    "name": "ipython",
    "version": 3
   },
   "file_extension": ".py",
   "mimetype": "text/x-python",
   "name": "python",
   "nbconvert_exporter": "python",
   "pygments_lexer": "ipython3",
   "version": "3.13.0"
  },
  "nbTranslate": {
   "displayLangs": [
    "*"
   ],
   "hotkey": "alt-t",
   "langInMainMenu": true,
   "sourceLang": "en",
   "targetLang": "fr",
   "useGoogleTranslate": true
  },
  "toc": {
   "base_numbering": 1,
   "nav_menu": {},
   "number_sections": true,
   "sideBar": true,
   "skip_h1_title": false,
   "title_cell": "Table of Contents",
   "title_sidebar": "Contents",
   "toc_cell": false,
   "toc_position": {},
   "toc_section_display": true,
   "toc_window_display": false
  },
  "varInspector": {
   "cols": {
    "lenName": 16,
    "lenType": 16,
    "lenVar": 40
   },
   "kernels_config": {
    "python": {
     "delete_cmd_postfix": "",
     "delete_cmd_prefix": "del ",
     "library": "var_list.py",
     "varRefreshCmd": "print(var_dic_list())"
    },
    "r": {
     "delete_cmd_postfix": ") ",
     "delete_cmd_prefix": "rm(",
     "library": "var_list.r",
     "varRefreshCmd": "cat(var_dic_list()) "
    }
   },
   "types_to_exclude": [
    "module",
    "function",
    "builtin_function_or_method",
    "instance",
    "_Feature"
   ],
   "window_display": false
  }
 },
 "nbformat": 4,
 "nbformat_minor": 5
}
